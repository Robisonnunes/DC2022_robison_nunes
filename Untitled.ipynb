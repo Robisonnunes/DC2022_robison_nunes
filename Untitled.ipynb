{
 "cells": [
  {
   "cell_type": "code",
   "execution_count": 1,
   "id": "7ae25f1f",
   "metadata": {},
   "outputs": [],
   "source": [
    "import pandas as pd\n"
   ]
  },
  {
   "cell_type": "code",
   "execution_count": null,
   "id": "fc6297cb",
   "metadata": {},
   "outputs": [
    {
     "name": "stderr",
     "output_type": "stream",
     "text": [
      "/home/robison/anaconda3/lib/python3.8/site-packages/IPython/core/interactiveshell.py:3165: DtypeWarning: Columns (22,23,24,25,26,27) have mixed types.Specify dtype option on import or set low_memory=False.\n",
      "  has_raised = await self.run_ast_nodes(code_ast.body, cell_name,\n"
     ]
    }
   ],
   "source": [
    "df = pd.read_csv('dados/portifolio_full.csv', sep=',', encoding='utf-8')"
   ]
  },
  {
   "cell_type": "code",
   "execution_count": null,
   "id": "c3b056e8",
   "metadata": {
    "scrolled": true
   },
   "outputs": [],
   "source": [
    "df.info()"
   ]
  },
  {
   "cell_type": "code",
   "execution_count": 5,
   "id": "96e33fcb",
   "metadata": {
    "scrolled": true
   },
   "outputs": [
    {
     "data": {
      "text/plain": [
       "nr_documento\n",
       "000283fb42d13c0c08c4aeb7f69f3454     17639.960000\n",
       "000654daef787f24a38f30f0ce33c4ec    126171.760000\n",
       "0008d26db7a34a51aaf9e0471075c89d    160984.360000\n",
       "000a9ca2f55fd697eef7e3fb796f9312    139708.910000\n",
       "000aaae9af3cc62675da6793a2beed1f    265292.280000\n",
       "                                        ...      \n",
       "ffda55e76cdde92482237d4436dd93e2     86789.170000\n",
       "ffe2078c166600c0f2c364f26be68296    323842.160000\n",
       "fff6f849b204d0c8c7721a95caa58a6a    224295.328237\n",
       "fffd5f4e86eaf06ff825a4cd90ca916a    182683.820000\n",
       "fffd8587042d365621eb3b520c68a8f0    734394.150000\n",
       "Name: vlr_tpv, Length: 14259, dtype: float64"
      ]
     },
     "execution_count": 5,
     "metadata": {},
     "output_type": "execute_result"
    }
   ],
   "source": [
    "df.groupby(by='contrato')['vlr_tpv'].sum()"
   ]
  },
  {
   "cell_type": "code",
   "execution_count": null,
   "id": "7cc2898b",
   "metadata": {},
   "outputs": [],
   "source": []
  }
 ],
 "metadata": {
  "kernelspec": {
   "display_name": "Python 3",
   "language": "python",
   "name": "python3"
  },
  "language_info": {
   "codemirror_mode": {
    "name": "ipython",
    "version": 3
   },
   "file_extension": ".py",
   "mimetype": "text/x-python",
   "name": "python",
   "nbconvert_exporter": "python",
   "pygments_lexer": "ipython3",
   "version": "3.8.8"
  }
 },
 "nbformat": 4,
 "nbformat_minor": 5
}
